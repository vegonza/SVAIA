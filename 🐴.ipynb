{
  "cells": [
    {
      "cell_type": "markdown",
      "metadata": {
        "id": "QNvQ3MI7xcxY"
      },
      "source": [
        "# Algoritmos genéticos"
      ]
    },
    {
      "cell_type": "markdown",
      "metadata": {
        "id": "qOlHAy2lyyZ6"
      },
      "source": [
        "## Importaciones"
      ]
    },
    {
      "cell_type": "code",
      "execution_count": null,
      "metadata": {
        "colab": {
          "base_uri": "https://localhost:8080/"
        },
        "id": "NPa3cLGRSVgO",
        "outputId": "62c53c86-d81f-45e2-8b62-87346c72cbf2"
      },
      "outputs": [],
      "source": [
        "!pip install deap\n",
        "!pip install tqdm"
      ]
    },
    {
      "cell_type": "code",
      "execution_count": 60,
      "metadata": {
        "id": "tUV19nQpyxWh"
      },
      "outputs": [],
      "source": [
        "import random\n",
        "from typing import Callable\n",
        "\n",
        "import matplotlib.patches as patches\n",
        "import matplotlib.pyplot as plt\n",
        "import numpy as np\n",
        "from deap import base, creator, tools\n",
        "from matplotlib import pyplot as plt\n",
        "from tqdm import tqdm"
      ]
    },
    {
      "cell_type": "markdown",
      "metadata": {
        "id": "sN1OGrQGR2MF"
      },
      "source": [
        "## Inicialización"
      ]
    },
    {
      "cell_type": "code",
      "execution_count": 61,
      "metadata": {
        "id": "6nOauw_AR2MF"
      },
      "outputs": [],
      "source": [
        "SEED = 27 # Valor de seed aleatoria\n",
        "FIL = 8 # num de files\n",
        "COL = 8 # num de columns\n",
        "START = 0\n",
        "END = FIL*COL\n",
        "CXPB = 0.5 # Probabilidad de cruce\n",
        "MUTPB = 0.2 # Probabilidad de mutabilidad\n",
        "POP_LEN = 10 # Tamaño de la poblacion\n",
        "GENS = 1000 # Número máximo de iteraciones\n",
        "INDP = 0.05 # Probabilidad de que un determinado indice se intercambie\n",
        "random.seed(SEED)"
      ]
    },
    {
      "cell_type": "markdown",
      "metadata": {
        "id": "e373UU-ix7ZG"
      },
      "source": [
        "## Funciones auxiliares"
      ]
    },
    {
      "cell_type": "code",
      "execution_count": 62,
      "metadata": {
        "id": "OymXGhN0xW0B"
      },
      "outputs": [],
      "source": [
        "def draw_chessboard(solution: list[int]):\n",
        "    \"\"\"Dibuja un tablero y coloca los números de la lista (tablero aplanado) en las casillas.\"\"\"\n",
        "    n = int(len(solution) ** 0.5)\n",
        "    assert n * n == len(solution), \"La longitud de la solución debe ser un cuadrado perfecto\"\n",
        "    fig, ax = plt.subplots(figsize=(n, n))\n",
        "    colors = ['#f0d9b5', '#b58863']\n",
        "\n",
        "    def get_fontsize(n):\n",
        "        if n <= 8:\n",
        "            return 28\n",
        "        elif n <= 12:\n",
        "            return 22\n",
        "        elif n <= 16:\n",
        "            return 18\n",
        "        else:\n",
        "            return 14\n",
        "\n",
        "    fontsize = get_fontsize(n)\n",
        "\n",
        "    # dibujamos tablero\n",
        "    for row in range(n):\n",
        "        for col in range(n):\n",
        "            color = colors[(row + col + 1) % 2]\n",
        "            square = patches.Rectangle((col, row), 1, 1, facecolor=color)\n",
        "            ax.add_patch(square)\n",
        "\n",
        "    # dibujamos los números de la lista en cada casilla\n",
        "    for idx, value in enumerate(solution):\n",
        "        row = idx // n\n",
        "        col = idx % n\n",
        "        # Ajusta el desplazamiento horizontal para centrar mejor los números de 2 dígitos\n",
        "        text_str = str(value)\n",
        "        ax.text(col + 0.5, row + 0.5, text_str, fontsize=fontsize,\n",
        "                ha='center', va='center', color='black', fontweight='bold')\n",
        "\n",
        "    ax.set_xlim(0, n)\n",
        "    ax.set_ylim(0, n)\n",
        "    ax.invert_yaxis()\n",
        "    ax.set_xticks([])\n",
        "    ax.set_yticks([])\n",
        "    ax.set_aspect('equal')\n",
        "    plt.box(False)\n",
        "    plt.show()"
      ]
    },
    {
      "cell_type": "code",
      "execution_count": null,
      "metadata": {
        "colab": {
          "base_uri": "https://localhost:8080/",
          "height": 633
        },
        "id": "RQ_iUoOQNtmc",
        "outputId": "3e03ba5e-2384-4fca-ccdb-a77b89dad270"
      },
      "outputs": [],
      "source": [
        "import random\n",
        "solution = list(range(FIL*COL))\n",
        "random.shuffle(solution)\n",
        "\n",
        "draw_chessboard(solution)\n",
        "solution"
      ]
    },
    {
      "cell_type": "code",
      "execution_count": null,
      "metadata": {
        "colab": {
          "base_uri": "https://localhost:8080/"
        },
        "id": "DtySEGiCSzXF",
        "outputId": "d11a31cd-b56f-4133-d60c-7902ff544cd4"
      },
      "outputs": [],
      "source": [
        "creator.create(\"FitnessMax\", base.Fitness, weights=(1.0,))\n",
        "creator.create(\"Individual\", list, fitness=creator.FitnessMax)\n",
        "\n",
        "disponible = []\n",
        "def restriction(*args, **kwargs):\n",
        "  global disponible\n",
        "  if not disponible:\n",
        "    disponible.extend(range(FIL*COL))\n",
        "    disponible = random.sample(disponible, FIL*COL)\n",
        "\n",
        "  return disponible.pop(0)\n",
        "\n",
        "toolbox = base.Toolbox()\n",
        "# Generador de atributos\n",
        "toolbox.register(\"attr_bool\", restriction, 0, FIL-1)\n",
        "# Inicializamos estructuras\n",
        "toolbox.register(\"individual\", tools.initRepeat, creator.Individual,\n",
        "    toolbox.attr_bool, FIL)\n",
        "toolbox.register(\"population\", tools.initRepeat, list, toolbox.individual)"
      ]
    },
    {
      "cell_type": "code",
      "execution_count": 72,
      "metadata": {
        "id": "iAzOPHZOTpdh"
      },
      "outputs": [],
      "source": [
        "def fitness(individual: list[int]):\n",
        "    \"\"\"Función para evaluar el fitness de los individuos\"\"\"\n",
        "    current_pos = 0\n",
        "    path_len = 0\n",
        "    while current_pos < FIL*COL - 1:\n",
        "        pos = individual.index(current_pos)\n",
        "        next_pos = individual.index(current_pos+1) \n",
        "        print(\"comparing: \", pos, next_pos)\n",
        "        diff = abs(pos - next_pos)\n",
        "        print(\"diff: \", diff)\n",
        "        print(f\"conditions: {(2*FIL + 1)=}, {(2*FIL - 1)=}, {(2 + FIL)=}, {(2 - FIL)=}\")\n",
        "        if diff == 2*FIL + 1 or diff == 2*FIL - 1 or diff == 2 + FIL or diff == FIL - 2:\n",
        "            path_len += 1\n",
        "        else: # TODO: fitness del inicio a fallo vs total combinaciones validas\n",
        "            # break\n",
        "            pass\n",
        "\n",
        "        current_pos += 1\n",
        "\n",
        "    return path_len\n",
        "\n",
        "\n",
        "toolbox.register(\"evaluate\", fitness)\n",
        "toolbox.register(\"mate\", tools.cxTwoPoint)\n",
        "toolbox.register(\"mutate\", tools.mutShuffleIndexes, indpb=INDP)\n",
        "toolbox.register(\"select\", tools.selTournament, tournsize=3)"
      ]
    },
    {
      "cell_type": "code",
      "execution_count": null,
      "metadata": {},
      "outputs": [],
      "source": [
        "cosa = [53,\n",
        " 60,\n",
        " 47,\n",
        " 50,\n",
        " 62,\n",
        " 43,\n",
        " 6,\n",
        " 38,\n",
        " 29,\n",
        " 13,\n",
        " 54,\n",
        " 46,\n",
        " 51,\n",
        " 63,\n",
        " 49,\n",
        " 14,\n",
        " 42,\n",
        " 2,\n",
        " 24,\n",
        " 1,\n",
        " 9,\n",
        " 59,\n",
        " 37,\n",
        " 45,\n",
        " 32,\n",
        " 35,\n",
        " 7,\n",
        " 20,\n",
        " 33,\n",
        " 10,\n",
        " 19,\n",
        " 8,\n",
        " 55,\n",
        " 30,\n",
        " 0,\n",
        " 22,\n",
        " 28,\n",
        " 3,\n",
        " 26,\n",
        " 27,\n",
        " 39,\n",
        " 5,\n",
        " 41,\n",
        " 36,\n",
        " 40,\n",
        " 57,\n",
        " 31,\n",
        " 48,\n",
        " 15,\n",
        " 11,\n",
        " 25,\n",
        " 23,\n",
        " 56,\n",
        " 21,\n",
        " 34,\n",
        " 52,\n",
        " 16,\n",
        " 58,\n",
        " 4,\n",
        " 12,\n",
        " 18,\n",
        " 17,\n",
        " 44,\n",
        " 61]\n",
        "\n",
        "draw_chessboard(cosa)\n",
        "fitness(cosa)"
      ]
    },
    {
      "cell_type": "markdown",
      "metadata": {
        "id": "fboEG3gvSlxi"
      },
      "source": [
        "# Función de algoritmo genético."
      ]
    },
    {
      "cell_type": "code",
      "execution_count": 10,
      "metadata": {
        "id": "2xfvyFi5SgRF"
      },
      "outputs": [],
      "source": [
        "def execute_genetic_algorithm(toolbox: base.Toolbox, pop_size: int, num_generations: int, CXPB: float, MUTPB: float, debug: bool=False) -> int:\n",
        "    pop = toolbox.population(n=pop_size)\n",
        "    fitnesses = list(map(toolbox.evaluate, pop))\n",
        "    for ind, fit in zip(pop, fitnesses):\n",
        "        ind.fitness.values = fit\n",
        "\n",
        "    fits = [ind.fitness.values[0] for ind in pop]\n",
        "\n",
        "    converged = False\n",
        "    iter = tqdm(range(num_generations), desc=f\"Max: {max(fits):.2f} | Avg: {sum(fits)/len(fits):.2f} | Min: {min(fits):.2f}\")\n",
        "    for num_it in iter:\n",
        "        iter.desc = f\"Max: {max(fits):.2f} | Avg: {sum(fits)/len(fits):.2f} | Min: {min(fits):.2f}\"\n",
        "        if debug:\n",
        "          pop.sort(key=lambda ind: ind.fitness.values, reverse=True)\n",
        "          # Mostramos los mejores individuos de la población para cada iteración (si debug está activado)\n",
        "          draw_advanced_chessboards_arrows(pop[:6], len(pop[:6]))\n",
        "\n",
        "        if max(fits) >= 1.0:\n",
        "          # Si encontramos solución hemos convergido.\n",
        "            converged = True\n",
        "            break\n",
        "\n",
        "\n",
        "        offspring = toolbox.select(pop, len(pop))\n",
        "        offspring = list(map(toolbox.clone, offspring))\n",
        "\n",
        "        for child1, child2 in zip(offspring[::2], offspring[1::2]):\n",
        "          # Por cada par de individuos comprobamos si los cruzamos\n",
        "            if random.random() < CXPB:\n",
        "                toolbox.mate(child1, child2)\n",
        "                del child1.fitness.values\n",
        "                del child2.fitness.values\n",
        "\n",
        "        for mutant in offspring:\n",
        "          # Comprobamos por cada individuo si debe mutar\n",
        "            if random.random() < MUTPB:\n",
        "                toolbox.mutate(mutant)\n",
        "                del mutant.fitness.values\n",
        "\n",
        "        invalid_ind = [ind for ind in offspring if not ind.fitness.valid]\n",
        "        fitnesses = map(toolbox.evaluate, invalid_ind)\n",
        "        # Reevaluamos los individuos no validos\n",
        "        for ind, fit in zip(invalid_ind, fitnesses):\n",
        "            ind.fitness.values = fit\n",
        "\n",
        "        pop[:] = offspring\n",
        "\n",
        "        fits = [ind.fitness.values[0] for ind in pop]\n",
        "\n",
        "    return num_it, pop, converged"
      ]
    },
    {
      "cell_type": "markdown",
      "metadata": {
        "id": "UuqqHa-mSeus"
      },
      "source": [
        "Ejecutamos el algoritmo con una población inicial de 25 individuos, y un máximo de 100 iteraciones.\n"
      ]
    },
    {
      "cell_type": "code",
      "execution_count": null,
      "metadata": {
        "colab": {
          "base_uri": "https://localhost:8080/",
          "height": 1000
        },
        "id": "bKyzUA7tJr6a",
        "outputId": "3db94990-68f2-4b1c-897d-0a6cbd214a92"
      },
      "outputs": [],
      "source": [
        "execute_genetic_algorithm(toolbox, 25, 100, CXPB, MUTPB, True);"
      ]
    },
    {
      "cell_type": "markdown",
      "metadata": {
        "id": "_pK4fxQMxatP"
      },
      "source": [
        "## Experimentamos variando la probabilidad de mutación con el índice"
      ]
    },
    {
      "cell_type": "code",
      "execution_count": 12,
      "metadata": {
        "id": "2Lh3kvzJKXSX"
      },
      "outputs": [],
      "source": [
        "def experiment_varying_indpb(toolbox: base.Toolbox, pop_size: int, num_generations: int, cxpb: float, mutpb: float, num_runs: int = 5):\n",
        "    indpb_values = np.linspace(0.0, 1.0, 20)\n",
        "    results = []\n",
        "\n",
        "    for indpb in indpb_values:\n",
        "        # Registramos la mutacion con el nuevo valor de indpb\n",
        "        toolbox.unregister(\"mutate\")\n",
        "        toolbox.register(\"mutate\", tools.mutShuffleIndexes, indpb=indpb)\n",
        "\n",
        "        min_fits_list = []\n",
        "        max_fits_list = []\n",
        "        mean_list = []\n",
        "        std_list = []\n",
        "        num_it_list = []\n",
        "\n",
        "        for _ in range(num_runs):\n",
        "            num_it, pop, converged = execute_genetic_algorithm(toolbox, pop_size, num_generations, cxpb, mutpb)\n",
        "            fits = [ind.fitness.values[0] for ind in pop]\n",
        "            length = len(pop)\n",
        "            mean = sum(fits) / length\n",
        "            sum2 = sum(x*x for x in fits)\n",
        "            std = abs(sum2 / length - mean**2)**0.5\n",
        "\n",
        "            min_fits_list.append(min(fits))\n",
        "            max_fits_list.append(max(fits))\n",
        "            mean_list.append(mean)\n",
        "            std_list.append(std)\n",
        "            num_it_list.append(num_it)\n",
        "\n",
        "        # Calculamos medias\n",
        "        avg_min_fits = np.mean(min_fits_list)\n",
        "        avg_max_fits = np.mean(max_fits_list)\n",
        "        avg_mean = np.mean(mean_list)\n",
        "        avg_std = np.mean(std_list)\n",
        "        avg_num_it = np.mean(num_it_list)\n",
        "\n",
        "        stats = (avg_min_fits, avg_max_fits, avg_mean, avg_std, avg_num_it)\n",
        "        results.append((indpb, stats))\n",
        "\n",
        "    return results"
      ]
    },
    {
      "cell_type": "code",
      "execution_count": null,
      "metadata": {
        "colab": {
          "base_uri": "https://localhost:8080/"
        },
        "id": "ODAEVN95Mj52",
        "outputId": "8dac6ef6-e7d6-4094-9ad1-2d6a10b2f4e7"
      },
      "outputs": [],
      "source": [
        "results = experiment_varying_indpb(toolbox, pop_size=POP_LEN, num_generations=GENS, cxpb=CXPB, mutpb=MUTPB, num_runs=5)"
      ]
    },
    {
      "cell_type": "code",
      "execution_count": 14,
      "metadata": {
        "id": "oI8sm1-HMgW9"
      },
      "outputs": [],
      "source": [
        "def plot_indpb_results(results):\n",
        "    indpb_vals = [r[0] for r in results]\n",
        "    min_vals   = [r[1][0] for r in results]\n",
        "    max_vals   = [r[1][1] for r in results]\n",
        "    mean_vals  = [r[1][2] for r in results]\n",
        "    std_vals   = [r[1][3] for r in results]\n",
        "    num_it_vals = [r[1][4] for r in results]\n",
        "\n",
        "    plt.figure(figsize=(12, 8))\n",
        "\n",
        "    # Subplot 1 - Number of Iterations\n",
        "    plt.subplot(2, 2, 1)\n",
        "    plt.plot(indpb_vals, num_it_vals, marker='o')\n",
        "    plt.title(\"Iterations to Converge vs indpb\")\n",
        "    plt.xlabel(\"indpb\")\n",
        "    plt.ylabel(\"Number of Iterations\")\n",
        "    plt.grid(True)\n",
        "\n",
        "    # Encontramos el indpb con menor número de iteraciones\n",
        "    min_it = min(num_it_vals)\n",
        "    min_index = num_it_vals.index(min_it)\n",
        "    x_val = indpb_vals[min_index]\n",
        "\n",
        "    # Línea vertical para el indpb\n",
        "    plt.axvline(x=x_val, color='red', linestyle='--')\n",
        "    y_lower, y_upper = plt.ylim()\n",
        "    plt.text(x_val, y_lower - 0.1 * (y_upper - y_lower),\n",
        "             f\"{x_val:.2f}\",\n",
        "             color='red', ha='center', va='top')\n",
        "\n",
        "    # Linea horizontal para el numero mínimo de iteraciones\n",
        "    plt.axhline(y=min_it, color='red', linestyle='--')\n",
        "    plt.text(min(indpb_vals), min_it,\n",
        "             f\"{int(min_it)}\", color='red', ha='left', va='bottom')\n",
        "\n",
        "    # Subplot 2 - Mean Fitness\n",
        "    plt.subplot(2, 2, 2)\n",
        "    plt.plot(indpb_vals, mean_vals, marker='o', color='orange')\n",
        "    plt.title(\"Mean Fitness vs indpb\")\n",
        "    plt.xlabel(\"indpb\")\n",
        "    plt.ylabel(\"Mean Fitness\")\n",
        "    plt.grid(True)\n",
        "\n",
        "    # Encontrar el indpb con la mayor media de fitness\n",
        "    max_mean = max(mean_vals)\n",
        "    max_index = mean_vals.index(max_mean)\n",
        "    x_val = indpb_vals[max_index]\n",
        "\n",
        "    # Línea vertical para el indpb\n",
        "    plt.axvline(x=x_val, color='red', linestyle='--')\n",
        "    y_lower, y_upper = plt.ylim()\n",
        "    plt.text(x_val, y_lower - 0.1 * (y_upper - y_lower),\n",
        "             f\"{x_val:.2f}\", color='red', ha='center', va='top')\n",
        "\n",
        "    # Linea horizontal para el máximo de las medias de fitness\n",
        "    plt.axhline(y=max_mean, color='red', linestyle='--')\n",
        "    plt.text(min(indpb_vals), max_mean,\n",
        "             f\"{max_mean:.2f}\", color='red', ha='left', va='bottom')\n",
        "\n",
        "    # Subplot 3 - Min Fitness\n",
        "    plt.subplot(2, 2, 3)\n",
        "    plt.plot(indpb_vals, min_vals, marker='o', color='green')\n",
        "    plt.title(\"Min Fitness vs indpb\")\n",
        "    plt.xlabel(\"indpb\")\n",
        "    plt.ylabel(\"Min Fitness\")\n",
        "    plt.grid(True)\n",
        "\n",
        "    # Encontramos el indpb con el mayor mínimo de fitness\n",
        "    max_min = max(min_vals)\n",
        "    max_index = min_vals.index(max_min)\n",
        "    x_val = indpb_vals[max_index]\n",
        "\n",
        "    # Línea vertical para el indpb\n",
        "    plt.axvline(x=x_val, color='red', linestyle='--')\n",
        "    y_lower, y_upper = plt.ylim()\n",
        "    plt.text(x_val, y_lower - 0.1 * (y_upper - y_lower),\n",
        "             f\"{x_val:.2f}\",\n",
        "             color='red', ha='center', va='top')\n",
        "\n",
        "    # Linea horizontal para el mayor valor del mínimo de fitness\n",
        "    plt.axhline(y=max_min, color='red', linestyle='--')\n",
        "    plt.text(min(indpb_vals), max_min,\n",
        "             f\"{max_min:.2f}\", color='red', ha='left', va='bottom')\n",
        "\n",
        "    # Subplot 4 - Std Dev\n",
        "    plt.subplot(2, 2, 4)\n",
        "    plt.plot(indpb_vals, std_vals, marker='o', color='red')\n",
        "    plt.title(\"Std Dev of Fitness vs indpb\")\n",
        "    plt.xlabel(\"indpb\")\n",
        "    plt.ylabel(\"Standard Deviation\")\n",
        "    plt.grid(True)\n",
        "\n",
        "    plt.tight_layout()\n",
        "    plt.show()"
      ]
    },
    {
      "cell_type": "code",
      "execution_count": null,
      "metadata": {
        "colab": {
          "base_uri": "https://localhost:8080/",
          "height": 808
        },
        "id": "emV2b9ype_Ds",
        "outputId": "ac9e16ee-c1a9-4524-98a2-b3b9d5bef743"
      },
      "outputs": [],
      "source": [
        "plot_indpb_results(results)"
      ]
    },
    {
      "cell_type": "markdown",
      "metadata": {
        "id": "4iPmgS4BfDhj"
      },
      "source": [
        "## Experimentamos cambiando el método de selección"
      ]
    },
    {
      "cell_type": "code",
      "execution_count": 16,
      "metadata": {
        "id": "kqwsJoK7fHiR"
      },
      "outputs": [],
      "source": [
        "def experiment_varying_selection(toolbox: base.Toolbox, pop_size: int, num_generations: int, cxpb: float, mutpb: float, num_runs: int = 5):\n",
        "    # Métodos de selección\n",
        "    selection_methods = {\n",
        "        \"Random\": tools.selRandom,\n",
        "        \"Roulette\": tools.selRoulette,\n",
        "        \"Tournament\": lambda individuals, k: tools.selTournament(individuals, k, tournsize=3),\n",
        "        \"Best\": tools.selBest,\n",
        "        \"Worst\": tools.selWorst\n",
        "    }\n",
        "\n",
        "    results = []\n",
        "    # Iteramos con todos los métodos para obtener información\n",
        "    for name, method in selection_methods.items():\n",
        "        toolbox.unregister(\"select\")\n",
        "        toolbox.register(\"select\", method)\n",
        "\n",
        "        print(f\"\\nRunning selection method: {name}\")\n",
        "        min_fits_list = []\n",
        "        max_fits_list = []\n",
        "        mean_list = []\n",
        "        std_list = []\n",
        "        num_it_list = []\n",
        "\n",
        "        for _ in range(num_runs):\n",
        "            num_it, pop, converged = execute_genetic_algorithm(toolbox, pop_size, num_generations, cxpb, mutpb)\n",
        "            fits = [ind.fitness.values[0] for ind in pop]\n",
        "            length = len(pop)\n",
        "            mean = sum(fits) / length\n",
        "            sum2 = sum(x*x for x in fits)\n",
        "            std = abs(sum2 / length - mean**2)**0.5\n",
        "\n",
        "            min_fits_list.append(min(fits))\n",
        "            max_fits_list.append(max(fits))\n",
        "            mean_list.append(mean)\n",
        "            std_list.append(std)\n",
        "            num_it_list.append(num_it)\n",
        "\n",
        "        # Calculamos medias\n",
        "        avg_min_fits = np.mean(min_fits_list)\n",
        "        avg_max_fits = np.mean(max_fits_list)\n",
        "        avg_mean = np.mean(mean_list)\n",
        "        avg_std = np.mean(std_list)\n",
        "        avg_num_it = np.mean(num_it_list)\n",
        "\n",
        "        stats = (avg_min_fits, avg_max_fits, avg_mean, avg_std, avg_num_it)\n",
        "        results.append((name, stats))\n",
        "\n",
        "    return results"
      ]
    },
    {
      "cell_type": "code",
      "execution_count": 17,
      "metadata": {
        "id": "3tLUIWMafI_C"
      },
      "outputs": [],
      "source": [
        "def plot_selection_results(results):\n",
        "    \"\"\" Mostramos las gráficas con los resultados. \"\"\"\n",
        "    names     = [r[0] for r in results]\n",
        "    min_vals  = [r[1][0] for r in results]\n",
        "    max_vals  = [r[1][1] for r in results]\n",
        "    mean_vals = [r[1][2] for r in results]\n",
        "    std_vals  = [r[1][3] for r in results]\n",
        "    num_it_vals = [r[1][4] for r in results]\n",
        "\n",
        "    x = np.arange(len(names))\n",
        "\n",
        "    plt.figure(figsize=(12, 8))\n",
        "\n",
        "    # Subplot 1 - Number of Iterations\n",
        "    plt.subplot(2, 2, 1)\n",
        "    plt.bar(x, num_it_vals, color='skyblue')\n",
        "    plt.xticks(x, names)\n",
        "    plt.title(\"Iterations to Converge por método de selección\")\n",
        "    plt.ylabel(\"Number of Iterations\")\n",
        "\n",
        "\n",
        "    # Señalamos el método con el menor número de iteraciones\n",
        "    min_it = min(num_it_vals)\n",
        "    min_index = num_it_vals.index(min_it)\n",
        "    plt.text(min_index, min_it, f\"{int(min_it)}\", color='red', ha='center', va='bottom')\n",
        "\n",
        "    # Subplot 2 - Mean Fitness\n",
        "    plt.subplot(2, 2, 2)\n",
        "    plt.bar(x, mean_vals, color='orange')\n",
        "    plt.xticks(x, names)\n",
        "    plt.title(\"Mean Fitness por método de selección\")\n",
        "    plt.ylabel(\"Mean Fitness\")\n",
        "\n",
        "    # Señalamos el método con el mayor valor de fitness medio\n",
        "    max_mean = max(mean_vals)\n",
        "    max_index = mean_vals.index(max_mean)\n",
        "    plt.text(max_index, max_mean, f\"{max_mean:.2f}\", color='red', ha='center', va='bottom')\n",
        "\n",
        "    # Subplot 3 - Min Fitness\n",
        "    plt.subplot(2, 2, 3)\n",
        "    plt.bar(x, min_vals, color='green')\n",
        "    plt.xticks(x, names)\n",
        "    plt.title(\"Min Fitness por método de selección\")\n",
        "    plt.ylabel(\"Min Fitness\")\n",
        "\n",
        "    # Señalamos el método con el mayor valor de fitness mínimo\n",
        "    max_min = max(min_vals)\n",
        "    max_index = min_vals.index(max_min)\n",
        "    plt.text(max_index, max_min, f\"{max_min:.2f}\", color='red', ha='center', va='bottom')\n",
        "\n",
        "    # Subplot 4 - Std Dev\n",
        "    plt.subplot(2, 2, 4)\n",
        "    plt.bar(x, std_vals, color='red')\n",
        "    plt.xticks(x, names)\n",
        "    plt.title(\"Std Dev por método de selección\")\n",
        "    plt.ylabel(\"Standard Deviation\")\n",
        "\n",
        "    plt.tight_layout()\n",
        "    plt.show()"
      ]
    },
    {
      "cell_type": "code",
      "execution_count": null,
      "metadata": {
        "colab": {
          "base_uri": "https://localhost:8080/"
        },
        "id": "oU0rn7MffL_K",
        "outputId": "abb06d6b-8eb3-4d57-d492-279712fd3e58"
      },
      "outputs": [],
      "source": [
        "results = experiment_varying_selection(toolbox, POP_LEN, GENS, CXPB, MUTPB, num_runs=5)"
      ]
    },
    {
      "cell_type": "code",
      "execution_count": null,
      "metadata": {
        "colab": {
          "base_uri": "https://localhost:8080/",
          "height": 807
        },
        "id": "XHIhMkZifN8z",
        "outputId": "6889698b-65e8-4217-a278-88c4cd82905d"
      },
      "outputs": [],
      "source": [
        "plot_selection_results(results)"
      ]
    },
    {
      "cell_type": "markdown",
      "metadata": {
        "id": "c49biA6YYc2s"
      },
      "source": [
        "# Optimización de parametros"
      ]
    },
    {
      "cell_type": "code",
      "execution_count": 20,
      "metadata": {
        "id": "w13pIddjQaYv"
      },
      "outputs": [],
      "source": [
        "def show_parameter_changes(\n",
        "    x: np.ndarray,\n",
        "    y: np.ndarray,\n",
        "    function: Callable[[float, float], tuple[float, bool]],\n",
        "    x_label: str,\n",
        "    y_label: str\n",
        "):\n",
        "    X, Y = np.meshgrid(x, y)\n",
        "    Z = np.zeros_like(X)\n",
        "    failures = []\n",
        "\n",
        "    for i in range(X.shape[0]):\n",
        "        for j in range(X.shape[1]):\n",
        "            iters, _, converged = function(X[i, j], Y[i, j])\n",
        "            Z[i, j] = iters\n",
        "            if not converged:\n",
        "                failures.append((X[i, j], Y[i, j], iters))\n",
        "\n",
        "    fig, axes = plt.subplots(\n",
        "        1, 3,\n",
        "        subplot_kw={'projection': '3d'},\n",
        "        figsize=(18, 6),\n",
        "        constrained_layout=True\n",
        "    )\n",
        "\n",
        "    view_angles = [\n",
        "        (30, 45),\n",
        "        (60, 120),\n",
        "        (20, 200),\n",
        "    ]\n",
        "\n",
        "    zmin = np.min(Z)\n",
        "    zmax = np.max(Z)\n",
        "\n",
        "    red_dot_proxy = plt.Line2D([0], [0], linestyle=\"none\", marker='o', color='red', label='No convergencia')\n",
        "\n",
        "    for idx, (ax, (elev, azim)) in enumerate(zip(axes, view_angles), start=1):\n",
        "        surf = ax.plot_surface(\n",
        "            X, Y, Z,\n",
        "            cmap='viridis',\n",
        "            linewidth=0,\n",
        "            antialiased=True,\n",
        "            rcount=100,\n",
        "            ccount=100,\n",
        "            vmin=zmin,\n",
        "            vmax=zmax\n",
        "        )\n",
        "\n",
        "        if failures:\n",
        "            fx, fy, fz = zip(*failures)\n",
        "            ax.scatter(\n",
        "                fx, fy, fz,\n",
        "                color='red',\n",
        "                s=50,\n",
        "                depthshade=True\n",
        "            )\n",
        "\n",
        "        ax.set_title(f'View {idx}: Elev={elev}, Azim={azim}', pad=10)\n",
        "        ax.set_xlabel(x_label)\n",
        "        ax.set_ylabel(y_label)\n",
        "        ax.set_zlabel('Iteraciones')\n",
        "        ax.set_zlim(zmin, zmax)\n",
        "        ax.view_init(elev=elev, azim=azim)\n",
        "\n",
        "    fig.colorbar(\n",
        "        surf,\n",
        "        ax=axes,\n",
        "        shrink=0.6,\n",
        "        aspect=20,\n",
        "        pad=0.05,\n",
        "        label='Iteraciones'\n",
        "    )\n",
        "\n",
        "    fig.legend(\n",
        "        handles=[red_dot_proxy],\n",
        "        loc='upper right',\n",
        "        bbox_to_anchor=(1.02, 1.02),\n",
        "        borderaxespad=0.0\n",
        "    )\n",
        "\n",
        "    plt.show()\n"
      ]
    },
    {
      "cell_type": "markdown",
      "metadata": {
        "id": "OKABXahrYhU7"
      },
      "source": [
        "## Probabilidad de Cruce y Mutación"
      ]
    },
    {
      "cell_type": "code",
      "execution_count": null,
      "metadata": {
        "colab": {
          "base_uri": "https://localhost:8080/",
          "height": 1000
        },
        "id": "368hTjVFYmV4",
        "outputId": "3467b355-08ec-401e-e821-4b05cb162c02"
      },
      "outputs": [],
      "source": [
        "show_parameter_changes(\n",
        "    np.arange(0.0, 1, 0.05),\n",
        "    np.arange(0.0, 1, 0.05),\n",
        "    lambda CXPB, MUTPB: execute_genetic_algorithm(toolbox, 10, 2500, CXPB, MUTPB),\n",
        "    'Probabilidad de cruce (CXPB)',\n",
        "    'Probabilidad de mutación (MUTPB)'\n",
        ")"
      ]
    },
    {
      "cell_type": "markdown",
      "metadata": {
        "id": "mAxrACSvYnR0"
      },
      "source": [
        "## Tamaño de la población y cantidad de iteraciones"
      ]
    },
    {
      "cell_type": "code",
      "execution_count": null,
      "metadata": {
        "colab": {
          "base_uri": "https://localhost:8080/",
          "height": 1000
        },
        "id": "Nczoo5irYnfb",
        "outputId": "80f3a3c6-b802-41cd-fa6c-9dbc4c255e91"
      },
      "outputs": [],
      "source": [
        "show_parameter_changes(\n",
        "    np.arange(10, 500, 10),\n",
        "    np.arange(100, 1000, 100),\n",
        "    lambda POP_LEN, GENS: execute_genetic_algorithm(toolbox, POP_LEN, GENS, CXPB, MUTPB),\n",
        "    'Tamaño de la población (POP_LEN)',\n",
        "    'Número de generaciones (GENS)'\n",
        ")"
      ]
    }
  ],
  "metadata": {
    "colab": {
      "provenance": []
    },
    "kernelspec": {
      "display_name": "Python 3",
      "language": "python",
      "name": "python3"
    },
    "language_info": {
      "codemirror_mode": {
        "name": "ipython",
        "version": 3
      },
      "file_extension": ".py",
      "mimetype": "text/x-python",
      "name": "python",
      "nbconvert_exporter": "python",
      "pygments_lexer": "ipython3",
      "version": "3.13.3"
    }
  },
  "nbformat": 4,
  "nbformat_minor": 0
}
